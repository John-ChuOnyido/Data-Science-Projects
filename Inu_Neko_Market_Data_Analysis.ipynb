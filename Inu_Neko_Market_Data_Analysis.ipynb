{
 "cells": [
  {
   "cell_type": "markdown",
   "id": "e0c1b20e",
   "metadata": {},
   "source": [
    "# Inu_Neko Market Data Analysis"
   ]
  },
  {
   "cell_type": "code",
   "execution_count": 1,
   "id": "22da6c97",
   "metadata": {},
   "outputs": [],
   "source": [
    "#Importing all the necessary pythone library.\n",
    "import numpy as np\n",
    "import pandas as pd\n",
    "import matplotlib.pyplot as plt\n",
    "import seaborn as sns\n",
    "%matplotlib inline\n",
    "\n",
    "import warnings\n",
    "warnings.filterwarnings('ignore')"
   ]
  },
  {
   "cell_type": "code",
   "execution_count": 2,
   "id": "9edf3ff8",
   "metadata": {},
   "outputs": [
    {
     "data": {
      "text/html": [
       "<div>\n",
       "<style scoped>\n",
       "    .dataframe tbody tr th:only-of-type {\n",
       "        vertical-align: middle;\n",
       "    }\n",
       "\n",
       "    .dataframe tbody tr th {\n",
       "        vertical-align: top;\n",
       "    }\n",
       "\n",
       "    .dataframe thead th {\n",
       "        text-align: right;\n",
       "    }\n",
       "</style>\n",
       "<table border=\"1\" class=\"dataframe\">\n",
       "  <thead>\n",
       "    <tr style=\"text-align: right;\">\n",
       "      <th></th>\n",
       "      <th>trans_id</th>\n",
       "      <th>prod_upc</th>\n",
       "      <th>cust_id</th>\n",
       "      <th>trans_timestamp</th>\n",
       "      <th>trans_year</th>\n",
       "      <th>trans_month</th>\n",
       "      <th>trans_day</th>\n",
       "      <th>trans_hour</th>\n",
       "      <th>trans_quantity</th>\n",
       "      <th>cust_age</th>\n",
       "      <th>cust_state</th>\n",
       "      <th>prod_price</th>\n",
       "      <th>prod_title</th>\n",
       "      <th>prod_category</th>\n",
       "      <th>prod_animal_type</th>\n",
       "      <th>prod_size</th>\n",
       "      <th>total_sales</th>\n",
       "    </tr>\n",
       "  </thead>\n",
       "  <tbody>\n",
       "    <tr>\n",
       "      <th>0</th>\n",
       "      <td>10316740</td>\n",
       "      <td>575410882303</td>\n",
       "      <td>1014557</td>\n",
       "      <td>2021-05-26 12:57:07.490008</td>\n",
       "      <td>2021</td>\n",
       "      <td>5</td>\n",
       "      <td>26</td>\n",
       "      <td>26</td>\n",
       "      <td>1</td>\n",
       "      <td>19</td>\n",
       "      <td>New York</td>\n",
       "      <td>21.95</td>\n",
       "      <td>Chomp-a Plush</td>\n",
       "      <td>toy</td>\n",
       "      <td>dog</td>\n",
       "      <td>NaN</td>\n",
       "      <td>0</td>\n",
       "    </tr>\n",
       "    <tr>\n",
       "      <th>1</th>\n",
       "      <td>10308775</td>\n",
       "      <td>719638485153</td>\n",
       "      <td>1008476</td>\n",
       "      <td>2021-04-18 12:59:58.120489</td>\n",
       "      <td>2021</td>\n",
       "      <td>4</td>\n",
       "      <td>18</td>\n",
       "      <td>18</td>\n",
       "      <td>1</td>\n",
       "      <td>37</td>\n",
       "      <td>New York</td>\n",
       "      <td>72.99</td>\n",
       "      <td>Cat Cave</td>\n",
       "      <td>bedding</td>\n",
       "      <td>cat</td>\n",
       "      <td>NaN</td>\n",
       "      <td>0</td>\n",
       "    </tr>\n",
       "    <tr>\n",
       "      <th>2</th>\n",
       "      <td>10313982</td>\n",
       "      <td>287663658863</td>\n",
       "      <td>1012552</td>\n",
       "      <td>2021-05-14 14:23:52.375544</td>\n",
       "      <td>2021</td>\n",
       "      <td>5</td>\n",
       "      <td>14</td>\n",
       "      <td>14</td>\n",
       "      <td>1</td>\n",
       "      <td>35</td>\n",
       "      <td>New Jersey</td>\n",
       "      <td>9.95</td>\n",
       "      <td>All Veggie Yummies</td>\n",
       "      <td>treat</td>\n",
       "      <td>dog</td>\n",
       "      <td>NaN</td>\n",
       "      <td>0</td>\n",
       "    </tr>\n",
       "    <tr>\n",
       "      <th>3</th>\n",
       "      <td>10311897</td>\n",
       "      <td>521244155990</td>\n",
       "      <td>1010940</td>\n",
       "      <td>2021-05-04 08:25:25.905636</td>\n",
       "      <td>2021</td>\n",
       "      <td>5</td>\n",
       "      <td>4</td>\n",
       "      <td>4</td>\n",
       "      <td>1</td>\n",
       "      <td>39</td>\n",
       "      <td>Mississippi</td>\n",
       "      <td>54.95</td>\n",
       "      <td>Reddy Beddy</td>\n",
       "      <td>bedding</td>\n",
       "      <td>dog</td>\n",
       "      <td>small</td>\n",
       "      <td>0</td>\n",
       "    </tr>\n",
       "    <tr>\n",
       "      <th>4</th>\n",
       "      <td>10315882</td>\n",
       "      <td>287663658863</td>\n",
       "      <td>1013961</td>\n",
       "      <td>2021-05-22 11:55:36.733048</td>\n",
       "      <td>2021</td>\n",
       "      <td>5</td>\n",
       "      <td>22</td>\n",
       "      <td>22</td>\n",
       "      <td>1</td>\n",
       "      <td>25</td>\n",
       "      <td>Florida</td>\n",
       "      <td>9.95</td>\n",
       "      <td>All Veggie Yummies</td>\n",
       "      <td>treat</td>\n",
       "      <td>dog</td>\n",
       "      <td>NaN</td>\n",
       "      <td>0</td>\n",
       "    </tr>\n",
       "  </tbody>\n",
       "</table>\n",
       "</div>"
      ],
      "text/plain": [
       "   trans_id      prod_upc  cust_id             trans_timestamp  trans_year  \\\n",
       "0  10316740  575410882303  1014557  2021-05-26 12:57:07.490008        2021   \n",
       "1  10308775  719638485153  1008476  2021-04-18 12:59:58.120489        2021   \n",
       "2  10313982  287663658863  1012552  2021-05-14 14:23:52.375544        2021   \n",
       "3  10311897  521244155990  1010940  2021-05-04 08:25:25.905636        2021   \n",
       "4  10315882  287663658863  1013961  2021-05-22 11:55:36.733048        2021   \n",
       "\n",
       "   trans_month  trans_day  trans_hour  trans_quantity  cust_age   cust_state  \\\n",
       "0            5         26          26               1        19     New York   \n",
       "1            4         18          18               1        37     New York   \n",
       "2            5         14          14               1        35   New Jersey   \n",
       "3            5          4           4               1        39  Mississippi   \n",
       "4            5         22          22               1        25      Florida   \n",
       "\n",
       "   prod_price          prod_title prod_category prod_animal_type prod_size  \\\n",
       "0       21.95       Chomp-a Plush           toy              dog       NaN   \n",
       "1       72.99            Cat Cave       bedding              cat       NaN   \n",
       "2        9.95  All Veggie Yummies         treat              dog       NaN   \n",
       "3       54.95         Reddy Beddy       bedding              dog     small   \n",
       "4        9.95  All Veggie Yummies         treat              dog       NaN   \n",
       "\n",
       "   total_sales  \n",
       "0            0  \n",
       "1            0  \n",
       "2            0  \n",
       "3            0  \n",
       "4            0  "
      ]
     },
     "execution_count": 2,
     "metadata": {},
     "output_type": "execute_result"
    }
   ],
   "source": [
    "inu_neko = pd.read_csv(\"inu_neko.csv\")\n",
    "inu_neko.head()"
   ]
  },
  {
   "cell_type": "code",
   "execution_count": 3,
   "id": "36d1f9b0",
   "metadata": {},
   "outputs": [
    {
     "data": {
      "text/plain": [
       "(24020, 17)"
      ]
     },
     "execution_count": 3,
     "metadata": {},
     "output_type": "execute_result"
    }
   ],
   "source": [
    "#checking the shape of the datset\n",
    "inu_neko.shape"
   ]
  },
  {
   "cell_type": "code",
   "execution_count": 4,
   "id": "f48ec72e",
   "metadata": {},
   "outputs": [
    {
     "data": {
      "text/plain": [
       "Index(['trans_id', 'prod_upc', 'cust_id', 'trans_timestamp', 'trans_year',\n",
       "       'trans_month', 'trans_day', 'trans_hour', 'trans_quantity', 'cust_age',\n",
       "       'cust_state', 'prod_price', 'prod_title', 'prod_category',\n",
       "       'prod_animal_type', 'prod_size', 'total_sales'],\n",
       "      dtype='object')"
      ]
     },
     "execution_count": 4,
     "metadata": {},
     "output_type": "execute_result"
    }
   ],
   "source": [
    "inu_neko.columns"
   ]
  },
  {
   "cell_type": "code",
   "execution_count": 5,
   "id": "1ef31df0",
   "metadata": {},
   "outputs": [
    {
     "data": {
      "text/plain": [
       "trans_id                0\n",
       "prod_upc                0\n",
       "cust_id                 0\n",
       "trans_timestamp         0\n",
       "trans_year              0\n",
       "trans_month             0\n",
       "trans_day               0\n",
       "trans_hour              0\n",
       "trans_quantity          0\n",
       "cust_age                0\n",
       "cust_state              0\n",
       "prod_price              0\n",
       "prod_title              0\n",
       "prod_category           0\n",
       "prod_animal_type        0\n",
       "prod_size           19305\n",
       "total_sales             0\n",
       "dtype: int64"
      ]
     },
     "execution_count": 5,
     "metadata": {},
     "output_type": "execute_result"
    }
   ],
   "source": [
    "#looking throug the data to check the \n",
    "# missing values\n",
    "missing_values = inu_neko.isnull().sum()\n",
    "missing_values"
   ]
  },
  {
   "cell_type": "code",
   "execution_count": 6,
   "id": "0864ac11",
   "metadata": {},
   "outputs": [
    {
     "name": "stdout",
     "output_type": "stream",
     "text": [
      "<class 'pandas.core.frame.DataFrame'>\n",
      "RangeIndex: 24020 entries, 0 to 24019\n",
      "Data columns (total 17 columns):\n",
      " #   Column            Non-Null Count  Dtype  \n",
      "---  ------            --------------  -----  \n",
      " 0   trans_id          24020 non-null  int64  \n",
      " 1   prod_upc          24020 non-null  int64  \n",
      " 2   cust_id           24020 non-null  int64  \n",
      " 3   trans_timestamp   24020 non-null  object \n",
      " 4   trans_year        24020 non-null  int64  \n",
      " 5   trans_month       24020 non-null  int64  \n",
      " 6   trans_day         24020 non-null  int64  \n",
      " 7   trans_hour        24020 non-null  int64  \n",
      " 8   trans_quantity    24020 non-null  int64  \n",
      " 9   cust_age          24020 non-null  int64  \n",
      " 10  cust_state        24020 non-null  object \n",
      " 11  prod_price        24020 non-null  float64\n",
      " 12  prod_title        24020 non-null  object \n",
      " 13  prod_category     24020 non-null  object \n",
      " 14  prod_animal_type  24020 non-null  object \n",
      " 15  prod_size         4715 non-null   object \n",
      " 16  total_sales       24020 non-null  int64  \n",
      "dtypes: float64(1), int64(10), object(6)\n",
      "memory usage: 3.1+ MB\n"
     ]
    }
   ],
   "source": [
    "#Checing the informations in the dataset\n",
    "inu_neko.info()"
   ]
  },
  {
   "cell_type": "code",
   "execution_count": 7,
   "id": "83c4e098",
   "metadata": {},
   "outputs": [
    {
     "data": {
      "text/plain": [
       "263"
      ]
     },
     "execution_count": 7,
     "metadata": {},
     "output_type": "execute_result"
    }
   ],
   "source": [
    "#checking for duplicate rows\n",
    "dup_rows = inu_neko.duplicated().sum()\n",
    "dup_rows"
   ]
  },
  {
   "cell_type": "code",
   "execution_count": 8,
   "id": "3079d727",
   "metadata": {},
   "outputs": [
    {
     "data": {
      "text/html": [
       "<div>\n",
       "<style scoped>\n",
       "    .dataframe tbody tr th:only-of-type {\n",
       "        vertical-align: middle;\n",
       "    }\n",
       "\n",
       "    .dataframe tbody tr th {\n",
       "        vertical-align: top;\n",
       "    }\n",
       "\n",
       "    .dataframe thead th {\n",
       "        text-align: right;\n",
       "    }\n",
       "</style>\n",
       "<table border=\"1\" class=\"dataframe\">\n",
       "  <thead>\n",
       "    <tr style=\"text-align: right;\">\n",
       "      <th></th>\n",
       "      <th>trans_id</th>\n",
       "      <th>prod_upc</th>\n",
       "      <th>cust_id</th>\n",
       "      <th>trans_timestamp</th>\n",
       "      <th>trans_year</th>\n",
       "      <th>trans_month</th>\n",
       "      <th>trans_day</th>\n",
       "      <th>trans_hour</th>\n",
       "      <th>trans_quantity</th>\n",
       "      <th>cust_age</th>\n",
       "      <th>cust_state</th>\n",
       "      <th>prod_price</th>\n",
       "      <th>prod_title</th>\n",
       "      <th>prod_category</th>\n",
       "      <th>prod_animal_type</th>\n",
       "      <th>prod_size</th>\n",
       "      <th>total_sales</th>\n",
       "    </tr>\n",
       "  </thead>\n",
       "  <tbody>\n",
       "    <tr>\n",
       "      <th>0</th>\n",
       "      <td>10316740</td>\n",
       "      <td>575410882303</td>\n",
       "      <td>1014557</td>\n",
       "      <td>2021-05-26 12:57:07.490008</td>\n",
       "      <td>2021</td>\n",
       "      <td>5</td>\n",
       "      <td>26</td>\n",
       "      <td>26</td>\n",
       "      <td>1</td>\n",
       "      <td>19</td>\n",
       "      <td>New York</td>\n",
       "      <td>21.95</td>\n",
       "      <td>Chomp-a Plush</td>\n",
       "      <td>toy</td>\n",
       "      <td>dog</td>\n",
       "      <td>NaN</td>\n",
       "      <td>0</td>\n",
       "    </tr>\n",
       "    <tr>\n",
       "      <th>1</th>\n",
       "      <td>10308775</td>\n",
       "      <td>719638485153</td>\n",
       "      <td>1008476</td>\n",
       "      <td>2021-04-18 12:59:58.120489</td>\n",
       "      <td>2021</td>\n",
       "      <td>4</td>\n",
       "      <td>18</td>\n",
       "      <td>18</td>\n",
       "      <td>1</td>\n",
       "      <td>37</td>\n",
       "      <td>New York</td>\n",
       "      <td>72.99</td>\n",
       "      <td>Cat Cave</td>\n",
       "      <td>bedding</td>\n",
       "      <td>cat</td>\n",
       "      <td>NaN</td>\n",
       "      <td>0</td>\n",
       "    </tr>\n",
       "    <tr>\n",
       "      <th>2</th>\n",
       "      <td>10313982</td>\n",
       "      <td>287663658863</td>\n",
       "      <td>1012552</td>\n",
       "      <td>2021-05-14 14:23:52.375544</td>\n",
       "      <td>2021</td>\n",
       "      <td>5</td>\n",
       "      <td>14</td>\n",
       "      <td>14</td>\n",
       "      <td>1</td>\n",
       "      <td>35</td>\n",
       "      <td>New Jersey</td>\n",
       "      <td>9.95</td>\n",
       "      <td>All Veggie Yummies</td>\n",
       "      <td>treat</td>\n",
       "      <td>dog</td>\n",
       "      <td>NaN</td>\n",
       "      <td>0</td>\n",
       "    </tr>\n",
       "    <tr>\n",
       "      <th>3</th>\n",
       "      <td>10311897</td>\n",
       "      <td>521244155990</td>\n",
       "      <td>1010940</td>\n",
       "      <td>2021-05-04 08:25:25.905636</td>\n",
       "      <td>2021</td>\n",
       "      <td>5</td>\n",
       "      <td>4</td>\n",
       "      <td>4</td>\n",
       "      <td>1</td>\n",
       "      <td>39</td>\n",
       "      <td>Mississippi</td>\n",
       "      <td>54.95</td>\n",
       "      <td>Reddy Beddy</td>\n",
       "      <td>bedding</td>\n",
       "      <td>dog</td>\n",
       "      <td>small</td>\n",
       "      <td>0</td>\n",
       "    </tr>\n",
       "    <tr>\n",
       "      <th>4</th>\n",
       "      <td>10315882</td>\n",
       "      <td>287663658863</td>\n",
       "      <td>1013961</td>\n",
       "      <td>2021-05-22 11:55:36.733048</td>\n",
       "      <td>2021</td>\n",
       "      <td>5</td>\n",
       "      <td>22</td>\n",
       "      <td>22</td>\n",
       "      <td>1</td>\n",
       "      <td>25</td>\n",
       "      <td>Florida</td>\n",
       "      <td>9.95</td>\n",
       "      <td>All Veggie Yummies</td>\n",
       "      <td>treat</td>\n",
       "      <td>dog</td>\n",
       "      <td>NaN</td>\n",
       "      <td>0</td>\n",
       "    </tr>\n",
       "  </tbody>\n",
       "</table>\n",
       "</div>"
      ],
      "text/plain": [
       "   trans_id      prod_upc  cust_id             trans_timestamp  trans_year  \\\n",
       "0  10316740  575410882303  1014557  2021-05-26 12:57:07.490008        2021   \n",
       "1  10308775  719638485153  1008476  2021-04-18 12:59:58.120489        2021   \n",
       "2  10313982  287663658863  1012552  2021-05-14 14:23:52.375544        2021   \n",
       "3  10311897  521244155990  1010940  2021-05-04 08:25:25.905636        2021   \n",
       "4  10315882  287663658863  1013961  2021-05-22 11:55:36.733048        2021   \n",
       "\n",
       "   trans_month  trans_day  trans_hour  trans_quantity  cust_age   cust_state  \\\n",
       "0            5         26          26               1        19     New York   \n",
       "1            4         18          18               1        37     New York   \n",
       "2            5         14          14               1        35   New Jersey   \n",
       "3            5          4           4               1        39  Mississippi   \n",
       "4            5         22          22               1        25      Florida   \n",
       "\n",
       "   prod_price          prod_title prod_category prod_animal_type prod_size  \\\n",
       "0       21.95       Chomp-a Plush           toy              dog       NaN   \n",
       "1       72.99            Cat Cave       bedding              cat       NaN   \n",
       "2        9.95  All Veggie Yummies         treat              dog       NaN   \n",
       "3       54.95         Reddy Beddy       bedding              dog     small   \n",
       "4        9.95  All Veggie Yummies         treat              dog       NaN   \n",
       "\n",
       "   total_sales  \n",
       "0            0  \n",
       "1            0  \n",
       "2            0  \n",
       "3            0  \n",
       "4            0  "
      ]
     },
     "execution_count": 8,
     "metadata": {},
     "output_type": "execute_result"
    }
   ],
   "source": [
    "#removing the duplicates\n",
    "inu_neko_cleaned = inu_neko[~inu_neko.duplicated()]\n",
    "inu_neko_cleaned.head()"
   ]
  },
  {
   "cell_type": "code",
   "execution_count": 9,
   "id": "2d57e9e8",
   "metadata": {},
   "outputs": [
    {
     "data": {
      "text/plain": [
       "array(['New York', 'New Jersey', 'Mississippi', 'Florida', 'Pennsylvania',\n",
       "       'Connecticut', 'California', 'Oregon', 'Ohio', 'Wisconsin',\n",
       "       'South Carolina', 'Nevada', 'Illinois', 'New Mexico', 'Texas',\n",
       "       'Virginia', 'Nebraska', 'Massachusetts', 'North Carolina',\n",
       "       'Missouri', 'Maryland', 'Washington', 'Georgia', 'Colorado',\n",
       "       'South Dakota', 'Alabama', 'Kentucky', 'Arizona', 'Michigan',\n",
       "       'Utah', 'Louisiana', 'Delaware', 'Minnesota', 'Idaho', 'Arkansas',\n",
       "       'CA', 'Hawaii', 'Rhode Island', 'New Hampshire',\n",
       "       'District of Columbia', 'Indiana', 'North Dakota', 'Iowa',\n",
       "       'West Virginia', 'Tennessee', 'Montana', 'Kansas', 'Oklahoma',\n",
       "       'Maine', 'Alaska', 'Vermont', 'FL', 'Wyoming', 'AL', 'NY'],\n",
       "      dtype=object)"
      ]
     },
     "execution_count": 9,
     "metadata": {},
     "output_type": "execute_result"
    }
   ],
   "source": [
    "#Checing the unique valuesin the customer's state\n",
    "inu_neko_cleaned[\"cust_state\"].unique()"
   ]
  },
  {
   "cell_type": "code",
   "execution_count": 10,
   "id": "45458c7f",
   "metadata": {},
   "outputs": [
    {
     "data": {
      "text/plain": [
       "array(['New York', 'New Jersey', 'Mississippi', 'Florida', 'Pennsylvania',\n",
       "       'Connecticut', 'California', 'Oregon', 'Ohio', 'Wisconsin',\n",
       "       'South Carolina', 'Nevada', 'Illinois', 'New Mexico', 'Texas',\n",
       "       'Virginia', 'Nebraska', 'Massachusetts', 'North Carolina',\n",
       "       'Missouri', 'Maryland', 'Washington', 'Georgia', 'Colorado',\n",
       "       'South Dakota', 'Alabama', 'Kentucky', 'Arizona', 'Michigan',\n",
       "       'Utah', 'Louisiana', 'Delaware', 'Minnesota', 'Idaho', 'Arkansas',\n",
       "       'Hawaii', 'Rhode Island', 'New Hampshire', 'District of Columbia',\n",
       "       'Indiana', 'North Dakota', 'Iowa', 'West Virginia', 'Tennessee',\n",
       "       'Montana', 'Kansas', 'Oklahoma', 'Maine', 'Alaska', 'Vermont',\n",
       "       'Wyoming'], dtype=object)"
      ]
     },
     "execution_count": 10,
     "metadata": {},
     "output_type": "execute_result"
    }
   ],
   "source": [
    "#replacing the abbreviated state to its full name\n",
    "inu_neko_cleaned = inu_neko_cleaned.replace([\"CA\",\"FL\",\"AL\",\"NY\"],[\"California\",\"Florida\",\"Alabama\",\"New York\"])\n",
    "inu_neko_cleaned[\"cust_state\"].unique()"
   ]
  },
  {
   "cell_type": "code",
   "execution_count": 11,
   "id": "442d43cd",
   "metadata": {},
   "outputs": [
    {
     "data": {
      "text/plain": [
       "array([2.195000e+01, 7.299000e+01, 9.950000e+00, 5.495000e+01,\n",
       "       1.999000e+01, 2.845000e+01, 1.097000e+01, 3.598000e+01,\n",
       "       1.297000e+01, 3.599000e+01, 1.099000e+01, 3.299000e+01,\n",
       "       4.599000e+01, 6.099000e+01, 2.495000e+01, 1.895000e+01,\n",
       "       1.599000e+01, 4.895000e+01, 2.299000e+01, 6.599000e+01,\n",
       "       1.299000e+01, 8.675309e+06])"
      ]
     },
     "execution_count": 11,
     "metadata": {},
     "output_type": "execute_result"
    }
   ],
   "source": [
    "#checkingthe unique values in the product price\n",
    "inu_neko_cleaned[\"prod_price\"].unique()"
   ]
  },
  {
   "cell_type": "code",
   "execution_count": 12,
   "id": "de3875a0",
   "metadata": {},
   "outputs": [
    {
     "name": "stdout",
     "output_type": "stream",
     "text": [
      "8675309.0\n"
     ]
    }
   ],
   "source": [
    "for item in inu_neko_cleaned[\"prod_price\"]:\n",
    "    if item > 100:\n",
    "        print(item)"
   ]
  },
  {
   "cell_type": "markdown",
   "id": "cae105cd",
   "metadata": {},
   "source": [
    "### Observation\n",
    "The Product price is less than or equal to 100<br>\n",
    "but there is a row where the product price is greater than 100<br>\n",
    "so we will look for the row and delete it."
   ]
  },
  {
   "cell_type": "code",
   "execution_count": 13,
   "id": "98f3a3e8",
   "metadata": {},
   "outputs": [
    {
     "data": {
      "text/plain": [
       "array([21.95, 72.99,  9.95, 54.95, 19.99, 28.45, 10.97, 35.98, 12.97,\n",
       "       35.99, 10.99, 32.99, 45.99, 60.99, 24.95, 18.95, 15.99, 48.95,\n",
       "       22.99, 65.99, 12.99])"
      ]
     },
     "execution_count": 13,
     "metadata": {},
     "output_type": "execute_result"
    }
   ],
   "source": [
    "inu_neko_cleaned= inu_neko_cleaned.drop(inu_neko_cleaned[inu_neko_cleaned[\"prod_price\"]>100].index)\n",
    "inu_neko_cleaned[\"prod_price\"].unique()"
   ]
  },
  {
   "cell_type": "markdown",
   "id": "6dc27d52",
   "metadata": {},
   "source": [
    "The total sales column is all 0s so we will be sorting that out<br>\n",
    "by multiplying the product price column with that of transaction quantities"
   ]
  },
  {
   "cell_type": "code",
   "execution_count": 14,
   "id": "cf53aacf",
   "metadata": {},
   "outputs": [
    {
     "data": {
      "text/html": [
       "<div>\n",
       "<style scoped>\n",
       "    .dataframe tbody tr th:only-of-type {\n",
       "        vertical-align: middle;\n",
       "    }\n",
       "\n",
       "    .dataframe tbody tr th {\n",
       "        vertical-align: top;\n",
       "    }\n",
       "\n",
       "    .dataframe thead th {\n",
       "        text-align: right;\n",
       "    }\n",
       "</style>\n",
       "<table border=\"1\" class=\"dataframe\">\n",
       "  <thead>\n",
       "    <tr style=\"text-align: right;\">\n",
       "      <th></th>\n",
       "      <th>trans_id</th>\n",
       "      <th>prod_upc</th>\n",
       "      <th>cust_id</th>\n",
       "      <th>trans_timestamp</th>\n",
       "      <th>trans_year</th>\n",
       "      <th>trans_month</th>\n",
       "      <th>trans_day</th>\n",
       "      <th>trans_hour</th>\n",
       "      <th>trans_quantity</th>\n",
       "      <th>cust_age</th>\n",
       "      <th>cust_state</th>\n",
       "      <th>prod_price</th>\n",
       "      <th>prod_title</th>\n",
       "      <th>prod_category</th>\n",
       "      <th>prod_animal_type</th>\n",
       "      <th>prod_size</th>\n",
       "      <th>total_sales</th>\n",
       "    </tr>\n",
       "  </thead>\n",
       "  <tbody>\n",
       "    <tr>\n",
       "      <th>0</th>\n",
       "      <td>10316740</td>\n",
       "      <td>575410882303</td>\n",
       "      <td>1014557</td>\n",
       "      <td>2021-05-26 12:57:07.490008</td>\n",
       "      <td>2021</td>\n",
       "      <td>5</td>\n",
       "      <td>26</td>\n",
       "      <td>26</td>\n",
       "      <td>1</td>\n",
       "      <td>19</td>\n",
       "      <td>New York</td>\n",
       "      <td>21.95</td>\n",
       "      <td>Chomp-a Plush</td>\n",
       "      <td>toy</td>\n",
       "      <td>dog</td>\n",
       "      <td>NaN</td>\n",
       "      <td>21.95</td>\n",
       "    </tr>\n",
       "    <tr>\n",
       "      <th>1</th>\n",
       "      <td>10308775</td>\n",
       "      <td>719638485153</td>\n",
       "      <td>1008476</td>\n",
       "      <td>2021-04-18 12:59:58.120489</td>\n",
       "      <td>2021</td>\n",
       "      <td>4</td>\n",
       "      <td>18</td>\n",
       "      <td>18</td>\n",
       "      <td>1</td>\n",
       "      <td>37</td>\n",
       "      <td>New York</td>\n",
       "      <td>72.99</td>\n",
       "      <td>Cat Cave</td>\n",
       "      <td>bedding</td>\n",
       "      <td>cat</td>\n",
       "      <td>NaN</td>\n",
       "      <td>72.99</td>\n",
       "    </tr>\n",
       "    <tr>\n",
       "      <th>2</th>\n",
       "      <td>10313982</td>\n",
       "      <td>287663658863</td>\n",
       "      <td>1012552</td>\n",
       "      <td>2021-05-14 14:23:52.375544</td>\n",
       "      <td>2021</td>\n",
       "      <td>5</td>\n",
       "      <td>14</td>\n",
       "      <td>14</td>\n",
       "      <td>1</td>\n",
       "      <td>35</td>\n",
       "      <td>New Jersey</td>\n",
       "      <td>9.95</td>\n",
       "      <td>All Veggie Yummies</td>\n",
       "      <td>treat</td>\n",
       "      <td>dog</td>\n",
       "      <td>NaN</td>\n",
       "      <td>9.95</td>\n",
       "    </tr>\n",
       "    <tr>\n",
       "      <th>3</th>\n",
       "      <td>10311897</td>\n",
       "      <td>521244155990</td>\n",
       "      <td>1010940</td>\n",
       "      <td>2021-05-04 08:25:25.905636</td>\n",
       "      <td>2021</td>\n",
       "      <td>5</td>\n",
       "      <td>4</td>\n",
       "      <td>4</td>\n",
       "      <td>1</td>\n",
       "      <td>39</td>\n",
       "      <td>Mississippi</td>\n",
       "      <td>54.95</td>\n",
       "      <td>Reddy Beddy</td>\n",
       "      <td>bedding</td>\n",
       "      <td>dog</td>\n",
       "      <td>small</td>\n",
       "      <td>54.95</td>\n",
       "    </tr>\n",
       "    <tr>\n",
       "      <th>4</th>\n",
       "      <td>10315882</td>\n",
       "      <td>287663658863</td>\n",
       "      <td>1013961</td>\n",
       "      <td>2021-05-22 11:55:36.733048</td>\n",
       "      <td>2021</td>\n",
       "      <td>5</td>\n",
       "      <td>22</td>\n",
       "      <td>22</td>\n",
       "      <td>1</td>\n",
       "      <td>25</td>\n",
       "      <td>Florida</td>\n",
       "      <td>9.95</td>\n",
       "      <td>All Veggie Yummies</td>\n",
       "      <td>treat</td>\n",
       "      <td>dog</td>\n",
       "      <td>NaN</td>\n",
       "      <td>9.95</td>\n",
       "    </tr>\n",
       "    <tr>\n",
       "      <th>5</th>\n",
       "      <td>10304083</td>\n",
       "      <td>344538897332</td>\n",
       "      <td>1004553</td>\n",
       "      <td>2021-03-15 06:54:04.394363</td>\n",
       "      <td>2021</td>\n",
       "      <td>3</td>\n",
       "      <td>15</td>\n",
       "      <td>15</td>\n",
       "      <td>1</td>\n",
       "      <td>23</td>\n",
       "      <td>Pennsylvania</td>\n",
       "      <td>19.99</td>\n",
       "      <td>Feline Fix Mix</td>\n",
       "      <td>treat</td>\n",
       "      <td>cat</td>\n",
       "      <td>NaN</td>\n",
       "      <td>19.99</td>\n",
       "    </tr>\n",
       "    <tr>\n",
       "      <th>6</th>\n",
       "      <td>10302524</td>\n",
       "      <td>441530839394</td>\n",
       "      <td>1003206</td>\n",
       "      <td>2021-02-26 09:53:54.769593</td>\n",
       "      <td>2021</td>\n",
       "      <td>2</td>\n",
       "      <td>26</td>\n",
       "      <td>26</td>\n",
       "      <td>2</td>\n",
       "      <td>23</td>\n",
       "      <td>Connecticut</td>\n",
       "      <td>28.45</td>\n",
       "      <td>Ball and String</td>\n",
       "      <td>toy</td>\n",
       "      <td>cat</td>\n",
       "      <td>NaN</td>\n",
       "      <td>56.90</td>\n",
       "    </tr>\n",
       "    <tr>\n",
       "      <th>7</th>\n",
       "      <td>10306020</td>\n",
       "      <td>374613020864</td>\n",
       "      <td>1006211</td>\n",
       "      <td>2021-03-31 11:24:22.552751</td>\n",
       "      <td>2021</td>\n",
       "      <td>3</td>\n",
       "      <td>31</td>\n",
       "      <td>31</td>\n",
       "      <td>1</td>\n",
       "      <td>21</td>\n",
       "      <td>New Jersey</td>\n",
       "      <td>10.97</td>\n",
       "      <td>Chewie Dental</td>\n",
       "      <td>treat</td>\n",
       "      <td>dog</td>\n",
       "      <td>NaN</td>\n",
       "      <td>10.97</td>\n",
       "    </tr>\n",
       "    <tr>\n",
       "      <th>8</th>\n",
       "      <td>10311825</td>\n",
       "      <td>344538897332</td>\n",
       "      <td>1010883</td>\n",
       "      <td>2021-05-04 11:27:31.070711</td>\n",
       "      <td>2021</td>\n",
       "      <td>5</td>\n",
       "      <td>4</td>\n",
       "      <td>4</td>\n",
       "      <td>2</td>\n",
       "      <td>26</td>\n",
       "      <td>New York</td>\n",
       "      <td>19.99</td>\n",
       "      <td>Feline Fix Mix</td>\n",
       "      <td>treat</td>\n",
       "      <td>cat</td>\n",
       "      <td>NaN</td>\n",
       "      <td>39.98</td>\n",
       "    </tr>\n",
       "    <tr>\n",
       "      <th>9</th>\n",
       "      <td>10311575</td>\n",
       "      <td>704772572943</td>\n",
       "      <td>1010687</td>\n",
       "      <td>2021-05-03 13:49:16.108636</td>\n",
       "      <td>2021</td>\n",
       "      <td>5</td>\n",
       "      <td>3</td>\n",
       "      <td>3</td>\n",
       "      <td>1</td>\n",
       "      <td>33</td>\n",
       "      <td>Connecticut</td>\n",
       "      <td>35.98</td>\n",
       "      <td>Scratchy Post</td>\n",
       "      <td>toy</td>\n",
       "      <td>cat</td>\n",
       "      <td>NaN</td>\n",
       "      <td>35.98</td>\n",
       "    </tr>\n",
       "  </tbody>\n",
       "</table>\n",
       "</div>"
      ],
      "text/plain": [
       "   trans_id      prod_upc  cust_id             trans_timestamp  trans_year  \\\n",
       "0  10316740  575410882303  1014557  2021-05-26 12:57:07.490008        2021   \n",
       "1  10308775  719638485153  1008476  2021-04-18 12:59:58.120489        2021   \n",
       "2  10313982  287663658863  1012552  2021-05-14 14:23:52.375544        2021   \n",
       "3  10311897  521244155990  1010940  2021-05-04 08:25:25.905636        2021   \n",
       "4  10315882  287663658863  1013961  2021-05-22 11:55:36.733048        2021   \n",
       "5  10304083  344538897332  1004553  2021-03-15 06:54:04.394363        2021   \n",
       "6  10302524  441530839394  1003206  2021-02-26 09:53:54.769593        2021   \n",
       "7  10306020  374613020864  1006211  2021-03-31 11:24:22.552751        2021   \n",
       "8  10311825  344538897332  1010883  2021-05-04 11:27:31.070711        2021   \n",
       "9  10311575  704772572943  1010687  2021-05-03 13:49:16.108636        2021   \n",
       "\n",
       "   trans_month  trans_day  trans_hour  trans_quantity  cust_age    cust_state  \\\n",
       "0            5         26          26               1        19      New York   \n",
       "1            4         18          18               1        37      New York   \n",
       "2            5         14          14               1        35    New Jersey   \n",
       "3            5          4           4               1        39   Mississippi   \n",
       "4            5         22          22               1        25       Florida   \n",
       "5            3         15          15               1        23  Pennsylvania   \n",
       "6            2         26          26               2        23   Connecticut   \n",
       "7            3         31          31               1        21    New Jersey   \n",
       "8            5          4           4               2        26      New York   \n",
       "9            5          3           3               1        33   Connecticut   \n",
       "\n",
       "   prod_price          prod_title prod_category prod_animal_type prod_size  \\\n",
       "0       21.95       Chomp-a Plush           toy              dog       NaN   \n",
       "1       72.99            Cat Cave       bedding              cat       NaN   \n",
       "2        9.95  All Veggie Yummies         treat              dog       NaN   \n",
       "3       54.95         Reddy Beddy       bedding              dog     small   \n",
       "4        9.95  All Veggie Yummies         treat              dog       NaN   \n",
       "5       19.99      Feline Fix Mix         treat              cat       NaN   \n",
       "6       28.45     Ball and String           toy              cat       NaN   \n",
       "7       10.97       Chewie Dental         treat              dog       NaN   \n",
       "8       19.99      Feline Fix Mix         treat              cat       NaN   \n",
       "9       35.98       Scratchy Post           toy              cat       NaN   \n",
       "\n",
       "   total_sales  \n",
       "0        21.95  \n",
       "1        72.99  \n",
       "2         9.95  \n",
       "3        54.95  \n",
       "4         9.95  \n",
       "5        19.99  \n",
       "6        56.90  \n",
       "7        10.97  \n",
       "8        39.98  \n",
       "9        35.98  "
      ]
     },
     "execution_count": 14,
     "metadata": {},
     "output_type": "execute_result"
    }
   ],
   "source": [
    "inu_neko_cleaned[\"total_sales\"] = inu_neko_cleaned[\"prod_price\"]*inu_neko_cleaned[\"trans_quantity\"]\n",
    "inu_neko_cleaned.head(10)"
   ]
  },
  {
   "cell_type": "code",
   "execution_count": 15,
   "id": "2f4a91d6",
   "metadata": {},
   "outputs": [
    {
     "data": {
      "text/plain": [
       "trans_id                0\n",
       "prod_upc                0\n",
       "cust_id                 0\n",
       "trans_timestamp         0\n",
       "trans_year              0\n",
       "trans_month             0\n",
       "trans_day               0\n",
       "trans_hour              0\n",
       "trans_quantity          0\n",
       "cust_age                0\n",
       "cust_state              0\n",
       "prod_price              0\n",
       "prod_title              0\n",
       "prod_category           0\n",
       "prod_animal_type        0\n",
       "prod_size           19094\n",
       "total_sales             0\n",
       "dtype: int64"
      ]
     },
     "execution_count": 15,
     "metadata": {},
     "output_type": "execute_result"
    }
   ],
   "source": [
    "#Chexking for missing values\n",
    "num_nans = inu_neko_cleaned.isnull().sum()\n",
    "num_nans"
   ]
  },
  {
   "cell_type": "code",
   "execution_count": 16,
   "id": "6a975098",
   "metadata": {},
   "outputs": [
    {
     "data": {
      "text/plain": [
       "trans_id            0\n",
       "prod_upc            0\n",
       "cust_id             0\n",
       "trans_timestamp     0\n",
       "trans_year          0\n",
       "trans_month         0\n",
       "trans_day           0\n",
       "trans_hour          0\n",
       "trans_quantity      0\n",
       "cust_age            0\n",
       "cust_state          0\n",
       "prod_price          0\n",
       "prod_title          0\n",
       "prod_category       0\n",
       "prod_animal_type    0\n",
       "total_sales         0\n",
       "dtype: int64"
      ]
     },
     "execution_count": 16,
     "metadata": {},
     "output_type": "execute_result"
    }
   ],
   "source": [
    "#drop the column with issing values\n",
    "inu_neko_cleaned = inu_neko_cleaned.drop(\"prod_size\",axis=1)\n",
    "inu_neko_cleaned.isnull().sum()"
   ]
  },
  {
   "cell_type": "markdown",
   "id": "57351115",
   "metadata": {},
   "source": [
    "### Observations\n",
    "The dataset have been cleaned from all the missing values,<br>\n",
    "null values nd the null column have been removed.<br>\n",
    "the row with an exaggerated product price has been removed.<BR>\n",
    "Therefore the dataset is decleared to be a **CLEANED DATASET**<br>\n",
    "and can now be use in the inu + neko market analysis"
   ]
  },
  {
   "cell_type": "markdown",
   "id": "31dd8a56",
   "metadata": {},
   "source": [
    "### Exploratory data analysis"
   ]
  },
  {
   "cell_type": "code",
   "execution_count": 17,
   "id": "d1850397",
   "metadata": {},
   "outputs": [
    {
     "data": {
      "text/plain": [
       "17416"
      ]
     },
     "execution_count": 17,
     "metadata": {},
     "output_type": "execute_result"
    }
   ],
   "source": [
    "#Checking the number of transacions or order in the dataset\n",
    "num_trans = len(inu_neko_cleaned[~inu_neko_cleaned[\"trans_id\"].duplicated()])\n",
    "num_trans"
   ]
  },
  {
   "cell_type": "code",
   "execution_count": 18,
   "id": "43f04978",
   "metadata": {},
   "outputs": [
    {
     "name": "stdout",
     "output_type": "stream",
     "text": [
      "[5 4 3 2 1]\n"
     ]
    },
    {
     "data": {
      "text/plain": [
       "array([26, 18, 14,  4, 22, 15, 31,  3, 19,  5, 24,  8, 11, 30, 25, 27, 29,\n",
       "       13, 21, 23, 16, 12, 17,  2,  9, 20,  6, 28, 10,  7,  1],\n",
       "      dtype=int64)"
      ]
     },
     "execution_count": 18,
     "metadata": {},
     "output_type": "execute_result"
    }
   ],
   "source": [
    "#Checking for the unique values in the month and day of the dataset\n",
    "print(inu_neko_cleaned[\"trans_month\"].unique())\n",
    "inu_neko_cleaned[\"trans_day\"].unique()"
   ]
  },
  {
   "cell_type": "code",
   "execution_count": 19,
   "id": "065f0892",
   "metadata": {},
   "outputs": [
    {
     "data": {
      "text/plain": [
       "(5, 26)"
      ]
     },
     "execution_count": 19,
     "metadata": {},
     "output_type": "execute_result"
    }
   ],
   "source": [
    "#Checking for the month and day of the first sale\n",
    "first_date =(inu_neko_cleaned[\"trans_month\"][0],inu_neko_cleaned[\"trans_day\"][0])\n",
    "first_date"
   ]
  },
  {
   "cell_type": "code",
   "execution_count": 20,
   "id": "8afc6696",
   "metadata": {},
   "outputs": [
    {
     "data": {
      "text/plain": [
       "(5, 7)"
      ]
     },
     "execution_count": 20,
     "metadata": {},
     "output_type": "execute_result"
    }
   ],
   "source": [
    "#Checking for the month and day of the last sale\n",
    "last_date = (inu_neko_cleaned[\"trans_month\"].iloc[-1],inu_neko_cleaned[\"trans_day\"].iloc[-1])\n",
    "last_date"
   ]
  },
  {
   "cell_type": "code",
   "execution_count": 21,
   "id": "9b59a357",
   "metadata": {},
   "outputs": [
    {
     "data": {
      "text/plain": [
       "'cat'"
      ]
     },
     "execution_count": 21,
     "metadata": {},
     "output_type": "execute_result"
    }
   ],
   "source": [
    "#Checking for the most popular product animal type\n",
    "most_pop = \"dog\" if (inu_neko_cleaned[\"prod_animal_type\"]==\"dog\").sum() > (inu_neko_cleaned[\"prod_animal_type\"]==\"cat\").sum() else \"cat\"\n",
    "most_pop"
   ]
  },
  {
   "cell_type": "code",
   "execution_count": 22,
   "id": "90ec0304",
   "metadata": {},
   "outputs": [
    {
     "data": {
      "text/plain": [
       "<AxesSubplot:xlabel='trans_month', ylabel='count'>"
      ]
     },
     "execution_count": 22,
     "metadata": {},
     "output_type": "execute_result"
    },
    {
     "data": {
      "image/png": "[encoded data removed]",
      "text/plain": [
       "<Figure size 432x288 with 1 Axes>"
      ]
     },
     "metadata": {
      "needs_background": "light"
     },
     "output_type": "display_data"
    }
   ],
   "source": [
    "#comparing the total transactions in every month to know the month with the maximum sales\n",
    "sns.countplot(inu_neko_cleaned[\"trans_month\"], palette ='colorblind')"
   ]
  },
  {
   "cell_type": "markdown",
   "id": "470e9ccc",
   "metadata": {},
   "source": [
    "**from observation the total transaction increase with month.**"
   ]
  },
  {
   "cell_type": "code",
   "execution_count": 24,
   "id": "ecff6f67",
   "metadata": {},
   "outputs": [
    {
     "data": {
      "text/plain": [
       "1.8820050528249885"
      ]
     },
     "execution_count": 24,
     "metadata": {},
     "output_type": "execute_result"
    }
   ],
   "source": [
    "# Checking for the average number of items bought in each transaction\n",
    "avg_num_items =sum(inu_neko_cleaned[\"trans_quantity\"])/len(inu_neko_cleaned[\"trans_id\"].unique())\n",
    "avg_num_items"
   ]
  },
  {
   "cell_type": "code",
   "execution_count": 25,
   "id": "04575fad",
   "metadata": {},
   "outputs": [
    {
     "data": {
      "text/plain": [
       "dict_keys(['Reddy Beddy', 'Cat Cave', 'Kitty Climber', 'Snoozer Hammock', 'Snoozer Essentails', 'Yum Fish-Dish', 'Feline Fix Mix', 'Scratchy Post', 'Foozy Mouse', 'Tuna Tasties'])"
      ]
     },
     "execution_count": 25,
     "metadata": {},
     "output_type": "execute_result"
    }
   ],
   "source": [
    "#the top ten product titles by total dollar amount made\n",
    "top_tot_sales = inu_neko_cleaned.groupby([\"prod_title\"]).sum().sort_values(\"total_sales\",ascending = False)\n",
    "top_tot_sales = top_tot_sales[\"total_sales\"]\n",
    "top_tot_sales = dict(top_tot_sales.nlargest(10))\n",
    "top_tot_sales.keys()"
   ]
  },
  {
   "cell_type": "code",
   "execution_count": 26,
   "id": "e540a8d0",
   "metadata": {},
   "outputs": [
    {
     "data": {
      "text/plain": [
       "dict_keys(['Reddy Beddy', 'Yum Fish-Dish', 'Feline Fix Mix', 'Kitty Climber', 'Tuna Tasties', 'Chewie Dental', 'Cat Cave', 'Purrfect Puree', 'Whole Chemistry Recipe', 'Snoozer Hammock'])"
      ]
     },
     "execution_count": 26,
     "metadata": {},
     "output_type": "execute_result"
    }
   ],
   "source": [
    "#the top ten product titles by the total number of items sold for that product\n",
    "top_num_sales = inu_neko_cleaned.groupby([\"prod_title\"]).sum().sort_values(\"trans_quantity\",ascending = False)\n",
    "top_num_sales = top_num_sales[\"trans_quantity\"]\n",
    "top_num_sales = dict(top_num_sales.nlargest(10))\n",
    "top_num_sales.keys()"
   ]
  },
  {
   "cell_type": "code",
   "execution_count": null,
   "id": "7288d305",
   "metadata": {},
   "outputs": [],
   "source": []
  }
 ],
 "metadata": {
  "kernelspec": {
   "display_name": "Python 3 (ipykernel)",
   "language": "python",
   "name": "python3"
  },
  "language_info": {
   "codemirror_mode": {
    "name": "ipython",
    "version": 3
   },
   "file_extension": ".py",
   "mimetype": "text/x-python",
   "name": "python",
   "nbconvert_exporter": "python",
   "pygments_lexer": "ipython3",
   "version": "3.9.12"
  }
 },
 "nbformat": 4,
 "nbformat_minor": 5
}
